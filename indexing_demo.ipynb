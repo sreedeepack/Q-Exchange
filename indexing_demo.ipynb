{
 "nbformat": 4,
 "nbformat_minor": 0,
 "metadata": {
  "colab": {
   "name": "IR-1.ipynb",
   "provenance": [],
   "authorship_tag": "ABX9TyPkACYkYcIgDNVGLP+RZSoZ",
   "include_colab_link": true
  },
  "kernelspec": {
   "name": "pycharm-20f7508",
   "language": "python",
   "display_name": "PyCharm (Q-Exchange)"
  }
 },
 "cells": [
  {
   "cell_type": "markdown",
   "metadata": {
    "id": "view-in-github",
    "colab_type": "text"
   },
   "source": [
    "<a href=\"https://colab.research.google.com/github/sreedeepack/Q-Exchange/blob/dev/IR%20workbench.ipynb\" target=\"_parent\"><img src=\"https://colab.research.google.com/assets/colab-badge.svg\" alt=\"Open In Colab\"/></a>"
   ]
  },
  {
   "cell_type": "code",
   "metadata": {
    "id": "99swSMxfQ7WS",
    "pycharm": {
     "name": "#%%\n"
    }
   },
   "source": [
    "import reprlib\n",
    "from collections import defaultdict\n",
    "from indexing import Preprocessor,Indexer\n",
    "import re"
   ],
   "execution_count": 2,
   "outputs": []
  },
  {
   "cell_type": "code",
   "execution_count": 3,
   "outputs": [],
   "source": [
    "# for testing\n",
    "doc_map = defaultdict()"
   ],
   "metadata": {
    "collapsed": false,
    "pycharm": {
     "name": "#%%\n"
    }
   }
  },
  {
   "cell_type": "code",
   "execution_count": 4,
   "outputs": [],
   "source": [
    "import jsonlines\n",
    "\n",
    "def clean_str(text) :\n",
    "        text = (text.encode('ascii', 'ignore')).decode(\"utf-8\")\n",
    "        text = re.sub(\"&.*?;\", \"\", text)\n",
    "        text = re.sub(\"[\\]\\|\\[\\@\\,\\$\\%\\*\\&\\\\\\(\\)\\\":]\", \"\", text)\n",
    "        text = re.sub(\"-\", \" \", text)\n",
    "        text = re.sub(\"\\.+\", \"\", text)\n",
    "        text = re.sub(\"^\\s+\",\"\" ,text)\n",
    "        text = re.sub(\"\\.+\", \"\", text)\n",
    "        text = text.lower()\n",
    "        return text\n",
    "\n",
    "def document_generator(file):\n",
    "    with jsonlines.open(file) as reader:\n",
    "        for doc_id, obj in enumerate(reader):\n",
    "            item = {'doc_id': doc_id, 'url': obj['url'], 'title': clean_str(obj['title']), 'desc': clean_str(obj['desc'])}\n",
    "            yield item"
   ],
   "metadata": {
    "collapsed": false,
    "pycharm": {
     "name": "#%%\n"
    }
   }
  },
  {
   "cell_type": "code",
   "execution_count": 5,
   "outputs": [],
   "source": [
    "p = Preprocessor()\n",
    "indexer = Indexer(p)"
   ],
   "metadata": {
    "collapsed": false,
    "pycharm": {
     "name": "#%%\n"
    }
   }
  },
  {
   "cell_type": "code",
   "execution_count": 6,
   "outputs": [],
   "source": [
    "inverted = {}\n",
    "for doc in document_generator(\"crawlers/stack/data/solr.jsonl\"):\n",
    "    doc_id = doc['doc_id']\n",
    "    # index both title and description\n",
    "    text = doc['title'] + \" \" +doc['desc']\n",
    "    doc_map[doc_id] = (doc['url'], text)\n",
    "    doc_index = indexer.inverted_index(text)\n",
    "    indexer.inverted_index_add(inverted,doc_id=doc_id,doc_index=doc_index)"
   ],
   "metadata": {
    "collapsed": false,
    "pycharm": {
     "name": "#%%\n"
    }
   }
  },
  {
   "cell_type": "code",
   "execution_count": 7,
   "outputs": [
    {
     "name": "stdout",
     "output_type": "stream",
     "text": [
      "instal {0: [7, 72, 130, 261, 532, 816, ...], 115: [1911, 2734], 188: [831, 1578], 829: [6270, 11787], ...}\n",
      "uniti {0: [15, 80, 99, 115, 178, 380, ...], 158: [5019], 365: [7622], 473: [3916], ...}\n",
      "use {0: [28, 1049, 1343, 1611, 1759, 1880, ...], 1: [1041], 2: [112, 241, 377, 776, 812, 823, ...], 3: [1692, 3680, 3940], ...}\n",
      "ubuntu {0: [34, 599, 624, 944, 1254], 1408: [1420, 3081], 1444: [2089, 4014, 6279], 1476: [5540, 7515], ...}\n"
     ]
    }
   ],
   "source": [
    "# Print Inverted-Index (3 rows)\n",
    "i = 0\n",
    "for word, doc_locations in inverted.items():\n",
    "    print(word, reprlib.repr(doc_locations))\n",
    "\n",
    "    i += 1\n",
    "    if i > 3:\n",
    "        break"
   ],
   "metadata": {
    "collapsed": false,
    "pycharm": {
     "name": "#%%\n"
    }
   }
  },
  {
   "cell_type": "markdown",
   "source": [
    "Sample querying"
   ],
   "metadata": {
    "collapsed": false
   }
  },
  {
   "cell_type": "code",
   "execution_count": 10,
   "outputs": [
    {
     "name": "stdout",
     "output_type": "stream",
     "text": [
      "Search for 'dolby': doc_ids={11074}\n",
      "\t - dolby digital expires at midnight ...\n",
      "\t -->/r/programming/comments/60b7kv/the_last_patent_on_ac3_dolby_digital_expires_at/\n",
      "\n",
      "\n",
      "\n",
      "Search for 'vim emacs': doc_ids={3942, 2058, 2672, 3315, 3732, 4221, 1431, 2587, 2877}\n",
      "\t - vim running inside gnome terminal showing the diff...\n",
      "\t -->https://askubuntu.com/questions/48299/what-ides-are-available-for-ubuntu\n",
      "\n",
      "\t - vim splits or extra tabs you like to install it in...\n",
      "\t -->https://askubuntu.com/questions/48299/what-ides-are-available-for-ubuntu\n",
      "\n",
      "\t - vim emacs nano gedit kate to name a few enable res...\n",
      "\t -->https://askubuntu.com/questions/68918/how-do-i-restrict-my-kids-computing-time\n",
      "\n",
      "\t - vim or emacs to write c code  just try this on you...\n",
      "\t -->https://askubuntu.com/questions/61408/what-is-a-command-to-compile-and-run-c-programs\n",
      "\n",
      "\t - vim is amazing! vim is a highly configurable text ...\n",
      "\t -->https://askubuntu.com/questions/10998/what-developer-text-editors-are-available-for-ubuntu\n",
      "\n",
      "\t - vim is a highly configurable text editor built to ...\n",
      "\t -->https://askubuntu.com/questions/10998/what-developer-text-editors-are-available-for-ubuntu\n",
      "\n",
      "\t - vim was originally released for the amiga vim has ...\n",
      "\t -->https://askubuntu.com/questions/10998/what-developer-text-editors-are-available-for-ubuntu\n",
      "\n",
      "\t - vim has since been developed to be   supporting ma...\n",
      "\t -->https://askubuntu.com/questions/10998/what-developer-text-editors-are-available-for-ubuntu\n",
      "\n",
      "\t - vim is free and open source software and is releas...\n",
      "\t -->https://askubuntu.com/questions/10998/what-developer-text-editors-are-available-for-ubuntu\n",
      "\n",
      "\t - vim text editor dpkg apt less vim style keys and s...\n",
      "\t -->https://askubuntu.com/questions/162075/my-computer-boots-to-a-black-screen-what-options-do-i-have-to-fix-it\n",
      "\n",
      "\t - vim style keys and searching like man and grep i'm...\n",
      "\t -->https://askubuntu.com/questions/162075/my-computer-boots-to-a-black-screen-what-options-do-i-have-to-fix-it\n",
      "\n",
      "\t - vim or pico/nano or check your email in mutt or pi...\n",
      "\t -->https://askubuntu.com/questions/162075/my-computer-boots-to-a-black-screen-what-options-do-i-have-to-fix-it\n",
      "\n",
      "\t - vim users like i that prefers to do everything wit...\n",
      "\t -->https://stackoverflow.com/questions/161813/how-to-resolve-merge-conflicts-in-git\n",
      "\n",
      "\t - vim called   once installed you can run   to check...\n",
      "\t -->https://stackoverflow.com/questions/161813/how-to-resolve-merge-conflicts-in-git\n",
      "\n",
      "\t - vim ~/profile in file put my_env_var=value save  w...\n",
      "\t -->https://stackoverflow.com/questions/135688/setting-environment-variables-on-os-x\n",
      "\n",
      "\t - vim it gives you all the tools you need to do mass...\n",
      "\t -->https://askubuntu.com/questions/10607/how-can-i-rename-many-files-at-once\n",
      "\n",
      "\t - vim or emacs in a python ide or wingide which is a...\n",
      "\t -->https://askubuntu.com/questions/6588/is-there-a-visual-studio-style-tool-ide\n",
      "\n",
      "\n",
      "\n",
      "\t - emacs but for command line programming it is a kil...\n",
      "\t -->https://askubuntu.com/questions/48299/what-ides-are-available-for-ubuntu\n",
      "\n",
      "\t - emacs nano gedit kate to name a few enable restric...\n",
      "\t -->https://askubuntu.com/questions/68918/how-do-i-restrict-my-kids-computing-time\n",
      "\n",
      "\t - emacs to write c code  just try this on your termi...\n",
      "\t -->https://askubuntu.com/questions/61408/what-is-a-command-to-compile-and-run-c-programs\n",
      "\n",
      "\t - emacs it has a solid python mode you don't need an...\n",
      "\t -->https://askubuntu.com/questions/10998/what-developer-text-editors-are-available-for-ubuntu\n",
      "\n",
      "\t - emacs tutorial it should be easily accessible from...\n",
      "\t -->https://askubuntu.com/questions/10998/what-developer-text-editors-are-available-for-ubuntu\n",
      "\n",
      "\t - emacs vim or pico/nano or check your email in mutt...\n",
      "\t -->https://askubuntu.com/questions/162075/my-computer-boots-to-a-black-screen-what-options-do-i-have-to-fix-it\n",
      "\n",
      "\t - emacs type this will open three buffers mine their...\n",
      "\t -->https://stackoverflow.com/questions/161813/how-to-resolve-merge-conflicts-in-git\n",
      "\n",
      "\t - emacs asks you if you want to save this buffer yes...\n",
      "\t -->https://stackoverflow.com/questions/161813/how-to-resolve-merge-conflicts-in-git\n",
      "\n",
      "\t - emacs lisp function although one can of course use...\n",
      "\t -->https://stackoverflow.com/questions/135688/setting-environment-variables-on-os-x\n",
      "\n",
      "\t - emacs lisp function  note this solution is an amal...\n",
      "\t -->https://stackoverflow.com/questions/135688/setting-environment-variables-on-os-x\n",
      "\n",
      "\t - emacs i think nothing beats dired for this task ev...\n",
      "\t -->https://askubuntu.com/questions/10607/how-can-i-rename-many-files-at-once\n",
      "\n",
      "\t - emacs that often you may find dired a handy tool s...\n",
      "\t -->https://askubuntu.com/questions/10607/how-can-i-rename-many-files-at-once\n",
      "\n",
      "\t - emacs dired mode for a directory now enter edit di...\n",
      "\t -->https://askubuntu.com/questions/10607/how-can-i-rename-many-files-at-once\n",
      "\n",
      "\t - emacs uses a different syntax than pcre for exampl...\n",
      "\t -->https://askubuntu.com/questions/10607/how-can-i-rename-many-files-at-once\n",
      "\n",
      "\t - emacs in a python ide or wingide which is a commer...\n",
      "\t -->https://askubuntu.com/questions/6588/is-there-a-visual-studio-style-tool-ide\n",
      "\n",
      "\n",
      "\n",
      "Search for 'github week': doc_ids={4710, 9863, 2058, 5835, 3850, 10127, 2511, 4498, 4221, 3286, 2268, 3741}\n",
      "\t - github repo  another option you can try is   it's ...\n",
      "\t -->https://stackoverflow.com/questions/292926/robust-and-mature-html-parser-for-php\n",
      "\n",
      "\t - github protest over chinese tech companies' 996 cu...\n",
      "\t -->/r/programming/comments/b799yb/github_protest_over_chinese_tech_companies_996/\n",
      "\n",
      "\t - github at the following location  this is how to i...\n",
      "\t -->https://askubuntu.com/questions/68918/how-do-i-restrict-my-kids-computing-time\n",
      "\n",
      "\t - github repo i didn't know what that compile line m...\n",
      "\t -->https://stackoverflow.com/questions/38922754/how-to-use-threetenabp-in-android-project\n",
      "\n",
      "\t - github has an api and today i learned that sourcef...\n",
      "\t -->https://askubuntu.com/questions/1056077/how-to-install-latest-hplip-on-my-ubuntu-to-support-my-hp-printer-and-or-scanner\n",
      "\n",
      "\t - github ...\n",
      "\t -->/r/programming/comments/henwet/the_uk_gov_just_spent_118_million_on_a_covid/\n",
      "\n",
      "\t - github repo that houses the sources for the packag...\n",
      "\t -->https://askubuntu.com/questions/548003/how-do-i-install-the-firefox-developer-edition\n",
      "\n",
      "\t - github i found the    this library makes it very s...\n",
      "\t -->https://stackoverflow.com/questions/2900023/change-app-language-programmatically-in-android\n",
      "\n",
      "\t - github page the localizationactivity extends appco...\n",
      "\t -->https://stackoverflow.com/questions/2900023/change-app-language-programmatically-in-android\n",
      "\n",
      "\t - github for practical tutorial check   i've success...\n",
      "\t -->https://stackoverflow.com/questions/161813/how-to-resolve-merge-conflicts-in-git\n",
      "\n",
      "\t - github's native tool  explains in detail but the b...\n",
      "\t -->https://stackoverflow.com/questions/161813/how-to-resolve-merge-conflicts-in-git\n",
      "\n",
      "\t - github   repository named   there is a   branch ca...\n",
      "\t -->https://askubuntu.com/questions/922085/i-need-rules-to-drop-some-malicious-apache-connections\n",
      "\n",
      "\t - github here are over viewed few ways involved into...\n",
      "\t -->https://askubuntu.com/questions/922085/i-need-rules-to-drop-some-malicious-apache-connections\n",
      "\n",
      "\t - github which satisfies the likes of errors generat...\n",
      "\t -->https://askubuntu.com/questions/432542/is-ffmpeg-missing-from-the-official-repositories-in-14-04\n",
      "\n",
      "\t - github and extract it in a directory of your choic...\n",
      "\t -->https://askubuntu.com/questions/775579/recovering-broken-or-deleted-ntfs-partitions\n",
      "\n",
      "\n",
      "\n",
      "\t - week the pyquery parsing broke and the regex still...\n",
      "\t -->https://stackoverflow.com/questions/292926/robust-and-mature-html-parser-for-php\n",
      "\n",
      "\t - week ago i created a library named   which allows ...\n",
      "\t -->https://stackoverflow.com/questions/292926/robust-and-mature-html-parser-for-php\n",
      "\n",
      "\t - week chinese tech companies really make their empl...\n",
      "\t -->/r/programming/comments/b799yb/github_protest_over_chinese_tech_companies_996/\n",
      "\n",
      "\t - week using the following abbreviations be careful ...\n",
      "\t -->https://askubuntu.com/questions/68918/how-do-i-restrict-my-kids-computing-time\n",
      "\n",
      "\t - week finally change the field used by the login ac...\n",
      "\t -->https://askubuntu.com/questions/68918/how-do-i-restrict-my-kids-computing-time\n",
      "\n",
      "\t - weeks ago when i started learning android i would ...\n",
      "\t -->https://stackoverflow.com/questions/38922754/how-to-use-threetenabp-in-android-project\n",
      "\n",
      "\t - weeks ago the latest hplip driver version availabl...\n",
      "\t -->https://askubuntu.com/questions/1056077/how-to-install-latest-hplip-on-my-ubuntu-to-support-my-hp-printer-and-or-scanner\n",
      "\n",
      "\t - week project thats failed to deliver heres the git...\n",
      "\t -->/r/programming/comments/henwet/the_uk_gov_just_spent_118_million_on_a_covid/\n",
      "\n",
      "\t - weeks before they reach the main firefox release c...\n",
      "\t -->https://askubuntu.com/questions/548003/how-do-i-install-the-firefox-developer-edition\n",
      "\n",
      "\t - weeks after they have stabilized in nightly builds...\n",
      "\t -->https://askubuntu.com/questions/548003/how-do-i-install-the-firefox-developer-edition\n",
      "\n",
      "\t - weeks the new way to do this is now using the  met...\n",
      "\t -->https://stackoverflow.com/questions/2900023/change-app-language-programmatically-in-android\n",
      "\n",
      "\t - week period you may choose to merge/rebase on that...\n",
      "\t -->https://stackoverflow.com/questions/161813/how-to-resolve-merge-conflicts-in-git\n",
      "\n",
      "\t - week that way if you do find merge/rebase conflict...\n",
      "\t -->https://stackoverflow.com/questions/161813/how-to-resolve-merge-conflicts-in-git\n",
      "\n",
      "\t - weeks to merge everything together in one big lump...\n",
      "\t -->https://stackoverflow.com/questions/161813/how-to-resolve-merge-conflicts-in-git\n",
      "\n",
      "\t - week     according to   i created a github   repos...\n",
      "\t -->https://askubuntu.com/questions/922085/i-need-rules-to-drop-some-malicious-apache-connections\n",
      "\n",
      "\t - weeks we will announce   here when   is stable and...\n",
      "\t -->https://askubuntu.com/questions/432542/is-ffmpeg-missing-from-the-official-repositories-in-14-04\n",
      "\n",
      "\t - weeks to install newest version ffmpeg 2811 this v...\n",
      "\t -->https://askubuntu.com/questions/432542/is-ffmpeg-missing-from-the-official-repositories-in-14-04\n",
      "\n",
      "\t - weeks ago i had a problem with my pc that my broth...\n",
      "\t -->https://askubuntu.com/questions/775579/recovering-broken-or-deleted-ntfs-partitions\n",
      "\n",
      "\n",
      "\n"
     ]
    }
   ],
   "source": [
    "# Search something and print results\n",
    "queries = ['dolby', 'vim emacs', 'github week']\n",
    "\n",
    "for query in queries:\n",
    "\n",
    "    tokenized_query = ' '.join(p.tokenize_string(query))\n",
    "    result_docs = indexer.search(inverted, tokenized_query)\n",
    "    print(f\"Search for '{query}': doc_ids={result_docs}\")\n",
    "\n",
    "    for _, word in p.word_index(tokenized_query):\n",
    "\n",
    "        def extract_text(doc_id, position):\n",
    "            return doc_map[doc_id][1][position:position+50].replace(\"\\n\", ' ')\n",
    "\n",
    "        for doc_id in result_docs:\n",
    "            for position in inverted[word][doc_id]:\n",
    "                print(\n",
    "                    f\"\\t - {extract_text(doc_id, position)}...\"\n",
    "                    f\"\\n\\t -->{doc_map[doc_id][0]}\"\n",
    "                    f\"\\n\"\n",
    "                )\n",
    "        print(\"\\n\")"
   ],
   "metadata": {
    "collapsed": false,
    "pycharm": {
     "name": "#%%\n"
    }
   }
  }
 ]
}